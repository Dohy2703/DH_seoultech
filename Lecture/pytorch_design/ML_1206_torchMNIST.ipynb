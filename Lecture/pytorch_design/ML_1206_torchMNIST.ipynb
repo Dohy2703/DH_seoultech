{
  "nbformat": 4,
  "nbformat_minor": 0,
  "metadata": {
    "colab": {
      "provenance": []
    },
    "kernelspec": {
      "name": "python3",
      "display_name": "Python 3"
    },
    "language_info": {
      "name": "python"
    }
  },
  "cells": [
    {
      "cell_type": "code",
      "execution_count": null,
      "metadata": {
        "id": "jjCAolWkjTqg"
      },
      "outputs": [],
      "source": [
        "import torch\n",
        "import numpy as np\n",
        "import torchvision.datasets as dsets\n",
        "import torchvision.transforms as transforms\n",
        "import matplotlib.pyplot as plt\n",
        "import random\n",
        "\n",
        "device = 'cuda' if torch.cuda.is_available() else 'cpu'\n",
        "\n",
        "random.seed(777)\n",
        "torch.manual_seed(777)\n",
        "\n",
        "if device == 'cuda':\n",
        "  torch.cuda.manual_seed_all(777)"
      ]
    },
    {
      "cell_type": "code",
      "source": [
        "# MNIST 데이터셋 다운로드\n",
        "\n",
        "# root : 불러올 데이터셋 위치\n",
        "# train : True(학습셋), False(테스트셋)\n",
        "# transform : 불러올 이미지를 트랜스폼할 함수\n",
        "# download : True이면 데이터셋을 로컬폴더로 다운로드. 이미 다운로드되면 안함\n",
        "\n",
        "mnist_train = dsets.MNIST(root='MNIST_data/',\n",
        "                          train = True,\n",
        "                          transform = transforms.ToTensor(),\n",
        "                          download = True)\n",
        "\n",
        "mnist_test = dsets.MNIST(root='MNIST_data/',\n",
        "                          train = False,\n",
        "                          transform = transforms.ToTensor(),\n",
        "                          download = True)"
      ],
      "metadata": {
        "id": "GGYVk8edj7oB"
      },
      "execution_count": null,
      "outputs": []
    },
    {
      "cell_type": "code",
      "source": [
        "# parameters\n",
        "training_epochs = 15\n",
        "batch_size = 100"
      ],
      "metadata": {
        "id": "0R7CpXrjki5-"
      },
      "execution_count": null,
      "outputs": []
    },
    {
      "cell_type": "code",
      "source": [
        "# 불러온 데이터셋을 신경망 입력에 맞게 추가로 관리\n",
        "# dataset : 대상 데이터셋\n",
        "# batch_size : 배치마다 몇개 샘플 로드\n",
        "# shuffle : True면 매 에폭마다 데이터 셔플링\n",
        "# drop_last : True면 마지막 배치가 샘플수 모자라면 버림\n",
        "\n",
        "data_loader = torch.utils.data.DataLoader(dataset = mnist_train,\n",
        "                                          batch_size = batch_size,\n",
        "                                          shuffle = True,\n",
        "                                          drop_last = True)"
      ],
      "metadata": {
        "id": "wROjPxtpkqUO"
      },
      "execution_count": null,
      "outputs": []
    },
    {
      "cell_type": "markdown",
      "source": [
        "3층 신경망 생성"
      ],
      "metadata": {
        "id": "Af_fQNC0lHYp"
      }
    },
    {
      "cell_type": "code",
      "source": [
        "# MNIST data image of shape 28*28 = 784\n",
        "# 각 Affine 층(입력 데이터에 선형 트랜스폼 수행) 모듈 생성\n",
        "\n",
        "# 인자 1번:입력, 2번:출력\n",
        "# bias : False면 편향 사용 X\n",
        "\n",
        "linear1 = torch.nn.Linear(784, 50, bias = True)\n",
        "linear2 = torch.nn.Linear(50, 100, bias = True)\n",
        "linear3 = torch.nn.Linear(100, 10, bias = True)\n",
        "\n",
        "# 활성화함수 모듈 생성\n",
        "\n",
        "sigmoid = torch.nn.Sigmoid()\n",
        "relu = torch.nn.ReLU()\n",
        "# relu = torch.nn.ReLU()\n",
        "\n",
        "# 만들어진 층, 활성화함수 모듈들을 순서대로 연결해서 모델 생성\n",
        "# 타겟 영상 플랫폼 설정\n",
        "\n",
        "model = torch.nn.Sequential(linear1, sigmoid, linear2, relu, linear3).to(device)\n",
        "\n",
        "# 에폭, 배치사이즈, 층, 활성화함수, lr 등 조절"
      ],
      "metadata": {
        "id": "NeYsP22_lGdh"
      },
      "execution_count": null,
      "outputs": []
    },
    {
      "cell_type": "markdown",
      "source": [
        "손실함수, 옵티마이저 생성"
      ],
      "metadata": {
        "id": "18AkiEO8mZLb"
      }
    },
    {
      "cell_type": "code",
      "source": [
        "criterion = torch.nn.CrossEntropyLoss().to(device) # 내부에 softmax 포함\n",
        "\n",
        "# Stochastic gradient descent\n",
        "# 1번 인자 : 최적화할 파라미터 그룹\n",
        "# lr : learning rate\n",
        "\n",
        "optimizer = torch.optim.SGD(model.parameters(), lr=0.1)"
      ],
      "metadata": {
        "id": "vVVXaxbBmIpb"
      },
      "execution_count": null,
      "outputs": []
    },
    {
      "cell_type": "markdown",
      "source": [
        "학습"
      ],
      "metadata": {
        "id": "82qPqtIdm0vi"
      }
    },
    {
      "cell_type": "code",
      "source": [
        "for epoch in range(training_epochs):\n",
        "\n",
        "  avg_cost = 0\n",
        "  total_batch = len(data_loader)\n",
        "\n",
        "  for X, T in data_loader:\n",
        "    # 이미지 1차원 변환, 입력데이터 = batch_size X 784\n",
        "    # T는 레이블 인코딩되어 있음\n",
        "    X = X.view(-1, 28*28).to(device)\n",
        "    T = T.to(device)\n",
        "\n",
        "    optimizer.zero_grad() # 기존 계산한 경사값 삭제\n",
        "    output = model(X) # 순방향 연산\n",
        "    cost = criterion(output, T) # 손실함수 설정\n",
        "    cost.backward() # 경사값 계산\n",
        "    optimizer.step() # 업데이트 1회 수행\n",
        "\n",
        "    avg_cost += cost / total_batch # 평균 손실함수값 계산\n",
        "\n",
        "  print('Epoch:', '%04d' % (epoch+1), 'cost=','{:.9f}'.format(avg_cost))\n",
        "\n",
        "print('Learning finished')"
      ],
      "metadata": {
        "colab": {
          "base_uri": "https://localhost:8080/"
        },
        "id": "a_86BC-Ymzrp",
        "outputId": "1476de30-765a-4b1c-b5dd-33b0e110d47d"
      },
      "execution_count": null,
      "outputs": [
        {
          "output_type": "stream",
          "name": "stdout",
          "text": [
            "Epoch: 0001 cost= 1.277919531\n",
            "Epoch: 0002 cost= 0.408030182\n",
            "Epoch: 0003 cost= 0.319354028\n",
            "Epoch: 0004 cost= 0.275896341\n",
            "Epoch: 0005 cost= 0.242576256\n",
            "Epoch: 0006 cost= 0.216173828\n",
            "Epoch: 0007 cost= 0.195270196\n",
            "Epoch: 0008 cost= 0.178111181\n",
            "Epoch: 0009 cost= 0.163540184\n",
            "Epoch: 0010 cost= 0.151462719\n",
            "Epoch: 0011 cost= 0.140929163\n",
            "Epoch: 0012 cost= 0.132720321\n",
            "Epoch: 0013 cost= 0.124595858\n",
            "Epoch: 0014 cost= 0.116961479\n",
            "Epoch: 0015 cost= 0.111301467\n",
            "Learning finished\n"
          ]
        }
      ]
    },
    {
      "cell_type": "code",
      "source": [
        "with torch.no_grad():\n",
        "  X_test = mnist_test.test_data.view(-1, 28*28).float().to(device)\n",
        "  T_test = mnist_test.test_labels.to(device)\n",
        "\n",
        "  # 테스트 셋에 대해 추론 수행\n",
        "  output = model(X_test)\n",
        "\n",
        "  # 출력값이 가장 높은 뉴런의 인덱스와 정답 비교, 맞으면 1 틀리면 0\n",
        "  correct_prediction = torch.argmax(output,1)==T_test\n",
        "\n",
        "  # 정확도 계산\n",
        "  accuracy = correct_prediction.float().mean()\n",
        "  print('Accuracy:', accuracy.item())\n",
        "\n",
        "  # 테스트셋 중 임의로 하나 선택\n",
        "  r = random.randint(0, len(mnist_test) - 1)\n",
        "  X_single_data = mnist_test.test_data[r:r+1].view(-1,28*28).float().to(device)\n",
        "  T_single_data = mnist_test.test_labels[r:r+1].to(device)\n",
        "\n",
        "  print('Label:', T_single_data.item())\n",
        "  single_output = model(X_single_data)\n",
        "  print('Prediction:', torch.argmax(single_output, 1).item())\n",
        "\n",
        "  # 선택된 테스트 이미지 출력\n",
        "  plt.imshow(mnist_test.test_data[r:r+1].view(28,28), cmap='Greys', interpolation='nearest')\n",
        "  plt.show()"
      ],
      "metadata": {
        "colab": {
          "base_uri": "https://localhost:8080/",
          "height": 412
        },
        "id": "cFpuJM7bnzyz",
        "outputId": "9b21b6e7-02c6-42ba-a61e-a54d2b042e45"
      },
      "execution_count": null,
      "outputs": [
        {
          "output_type": "stream",
          "name": "stdout",
          "text": [
            "Accuracy: 0.9261000156402588\n",
            "Label: 8\n",
            "Prediction: 3\n"
          ]
        },
        {
          "output_type": "stream",
          "name": "stderr",
          "text": [
            "/usr/local/lib/python3.8/dist-packages/torchvision/datasets/mnist.py:80: UserWarning: test_data has been renamed data\n",
            "  warnings.warn(\"test_data has been renamed data\")\n",
            "/usr/local/lib/python3.8/dist-packages/torchvision/datasets/mnist.py:70: UserWarning: test_labels has been renamed targets\n",
            "  warnings.warn(\"test_labels has been renamed targets\")\n"
          ]
        },
        {
          "output_type": "display_data",
          "data": {
            "text/plain": [
              "<Figure size 432x288 with 1 Axes>"
            ],
            "image/png": "[encoded data removed]"
          },
          "metadata": {
            "needs_background": "light"
          }
        }
      ]
    },
    {
      "cell_type": "code",
      "source": [
        "from sklearn.metrics import confusion_matrix\n",
        "from sklearn.metrics import ConfusionMatrixDisplay\n",
        "\n",
        "cm = confusion_matrix(T_test.cpu(), torch.argmax(output,1).cpu())\n",
        "print(cm)\n",
        "\n",
        "plt.rcParams['figure.figsize'] = (10,10)\n",
        "labels = [0,1,2,3,4,5,6,7,8,9]\n",
        "\n",
        "# 노멀라이즈\n",
        "cm = cm/np.repeat(np.bincount(T_test.cpu()), 10).reshape(10,10)\n",
        "\n",
        "cm_display = ConfusionMatrixDisplay(cm, display_labels = labels).plot(cmap=plt.cm.Blues)"
      ],
      "metadata": {
        "colab": {
          "base_uri": "https://localhost:8080/",
          "height": 762
        },
        "id": "xYPTQUl5qLD_",
        "outputId": "0f6b9e3d-21db-404a-914c-f1b31b792111"
      },
      "execution_count": null,
      "outputs": [
        {
          "output_type": "stream",
          "name": "stdout",
          "text": [
            "[[ 954    0    5    3    2    3    1    3    1    8]\n",
            " [   0 1098   16    1    0    1    2   13    4    0]\n",
            " [  12    2  967   21    3    3   10    8    4    2]\n",
            " [   3    3   11  937    0   23    2    8   15    8]\n",
            " [   5    0    6    6  884    6   13   12    6   44]\n",
            " [  13    1    4   25    4  803   12    7   13   10]\n",
            " [  19    1    7    6    9   11  899    0    6    0]\n",
            " [   1    4   21   10    2    0    0  969    5   16]\n",
            " [  17    8   62   22    0    7   13   10  825   10]\n",
            " [   6    4    1    5   29    9    1   16   13  925]]\n"
          ]
        },
        {
          "output_type": "display_data",
          "data": {
            "text/plain": [
              "<Figure size 720x720 with 2 Axes>"
            ],
            "image/png": "[encoded data removed]"
          },
          "metadata": {
            "needs_background": "light"
          }
        }
      ]
    }
  ]
}